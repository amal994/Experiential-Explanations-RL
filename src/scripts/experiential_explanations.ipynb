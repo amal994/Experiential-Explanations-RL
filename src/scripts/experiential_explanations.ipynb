{
 "cells": [
  {
   "cell_type": "markdown",
   "id": "505604fe",
   "metadata": {},
   "source": [
    "# Experiential Explanation Generation"
   ]
  },
  {
   "cell_type": "markdown",
   "id": "44869039",
   "metadata": {},
   "source": [
    "## Imports and initialization"
   ]
  },
  {
   "cell_type": "code",
   "execution_count": 1,
   "id": "146b504b",
   "metadata": {},
   "outputs": [
    {
     "name": "stdout",
     "output_type": "stream",
     "text": [
      "************************\n",
      "Registering Environments\n",
      "DONE!\n",
      "*********************************************\n"
     ]
    }
   ],
   "source": [
    "# Bring your packages onto the path\n",
    "import src.rl_minigrid.utils as utils\n",
    "from src.explanation_generation.scene_q_visualizer import SceneQVisualizer\n",
    "from src.explanation_generation.influence_predictors_manager import InfluencePredictorsManager\n",
    "from src.explanation_generation.explanation_generation import ExplanationGenerator\n",
    "import torch\n",
    "import gym\n",
    "import os \n",
    "import matplotlib.pyplot as plt\n",
    "import numpy as np "
   ]
  },
  {
   "cell_type": "code",
   "execution_count": 2,
   "id": "f87009a3",
   "metadata": {},
   "outputs": [],
   "source": [
    "\n",
    "# Main function\n",
    "# Loads and initialization (Do we need all this?)\n",
    "bad = \"blue\"\n",
    "modelname = \"LivingRoomEnv9-\"+bad\n",
    "storage_directory = utils.get_storage_dir()\n",
    "model_dir = os.path.join(storage_directory, modelname)\n",
    "device = torch.device(\"cuda:0\" if torch.cuda.is_available() else \"cpu\")\n",
    "memory = False  # Assume agent doesn't use LSTM\n",
    "text = False\n",
    "argmax = True  # This can get us the probabilities.\n",
    "env_name = \"MiniGrid-LivingRoomEnv9x9-v0\"\n",
    "env = gym.make(env_name)\n",
    "agent = utils.Agent(env.observation_space, env.action_space, model_dir, device=device, argmax=argmax,\n",
    "                        use_memory=memory,\n",
    "                        use_text=text)\n",
    "\n",
    "influence_predictors = InfluencePredictorsManager(device, model_dir, 'bad_dqn.model','goal_dqn.model','other_dqn.model')"
   ]
  },
  {
   "cell_type": "code",
   "execution_count": 3,
   "id": "7f71a738",
   "metadata": {},
   "outputs": [],
   "source": [
    "scenes_folders = {}\n",
    "path = os.path.join(storage_directory, 'observations')\n",
    "for i,j,k in os.walk(path):\n",
    "    foldername = i.split(\"/\")[-1] \n",
    "    if \"purple\" in foldername or \"blue\" in foldername: \n",
    "        scenes_folders[foldername] = os.path.join(path,foldername)+\"/\""
   ]
  },
  {
   "cell_type": "markdown",
   "id": "bab26939",
   "metadata": {},
   "source": [
    "## Counterfactual trajectory generation"
   ]
  },
  {
   "cell_type": "code",
   "execution_count": 4,
   "id": "43ca0c40",
   "metadata": {},
   "outputs": [],
   "source": [
    "foldername = \"LivingRoomEnv9-blue-scene3\"\n",
    "folderpath = scenes_folders[foldername]"
   ]
  },
  {
   "cell_type": "code",
   "execution_count": 5,
   "id": "50cd7f00",
   "metadata": {},
   "outputs": [],
   "source": [
    "e_g = ExplanationGenerator(folderpath, influence_predictors, agent)"
   ]
  },
  {
   "cell_type": "code",
   "execution_count": 6,
   "id": "49c03692",
   "metadata": {},
   "outputs": [
    {
     "name": "stdout",
     "output_type": "stream",
     "text": [
      "Action seq:  [1, 2, 2]\n"
     ]
    }
   ],
   "source": [
    "original_path = e_g.explanation_graph.paths['main'].get_edges_with_q_values()\n",
    "counterfactual_action_seq = [1,2,2]\n",
    "new_path_name = e_g.get_path(original_path, 0, len(original_path), \"custom\", counterfactual_action_seq)"
   ]
  },
  {
   "cell_type": "markdown",
   "id": "f63c155a",
   "metadata": {},
   "source": [
    "## Generate aggregate explanation"
   ]
  },
  {
   "cell_type": "code",
   "execution_count": 7,
   "id": "bd3d0637",
   "metadata": {},
   "outputs": [
    {
     "name": "stdout",
     "output_type": "stream",
     "text": [
      "MAIN\n",
      "(1,4)(1,3)(1,3)(2,3)(3,3)(4,3)(5,3)(6,3)(7,3)(7,3)\n",
      "3300000001\n",
      "0.02 0.01 0.01 0.02 0.02 0.02 0.01 0.01 0.01 0.01\n",
      "0.04 0.03 0.03 0.05 0.06 0.08 0.14 0.26 0.49 0.49\n",
      "\n",
      "(1,4)(1,5)(1,6)(2,6)(3,6)(4,6)(5,6)(6,6)(6,5)(6,4)(6,4)\n",
      "11000003330\n",
      "0.02 0.07 0.07 0.14 0.23 0.16 0.03 0.02 0.01 0.01 0.01\n",
      "0.04 0.07 0.06 0.06 0.06 0.05 0.08 0.13 0.26 1.01 1.01\n",
      "\n"
     ]
    },
    {
     "data": {
      "text/plain": "<Figure size 288x288 with 1 Axes>",
      "image/png": "[encoded data removed]"
     },
     "metadata": {
      "needs_background": "light"
     },
     "output_type": "display_data"
    },
    {
     "name": "stdout",
     "output_type": "stream",
     "text": [
      "Main Reward:  0.9877777777777778\n",
      "Counter Reward:  0.9844444444444445\n",
      "Main average Q:  0.9893024961153666\n",
      "Counter average Q:  0.9297223627567291\n",
      "Q difference:  0.05958013335863743\n",
      "Length Difference:  -1\n",
      "Main average bad Q:  0.016958471180664167\n",
      "Counter average bad Q:  0.07662696093320846\n",
      "Main average goal Q:  0.18705259015162787\n",
      "Counter average goal Q:  0.28178606517612936\n",
      "bad Q difference:  -0.059668489752544296\n",
      "goal Q difference:  -0.0947334750245015\n",
      "----------------------\n",
      "The agent doesn't prefer this path as it generally gives less reward. The agent prefers shorter paths. The counter path is more influenced by bad objects than the main path. \n"
     ]
    }
   ],
   "source": [
    "e_g.explanation_full_trajectory('main', new_path_name)"
   ]
  }
 ],
 "metadata": {
  "kernelspec": {
   "display_name": "Python 3",
   "language": "python",
   "name": "python3"
  },
  "language_info": {
   "codemirror_mode": {
    "name": "ipython",
    "version": 3
   },
   "file_extension": ".py",
   "mimetype": "text/x-python",
   "name": "python",
   "nbconvert_exporter": "python",
   "pygments_lexer": "ipython3",
   "version": "3.10.2"
  }
 },
 "nbformat": 4,
 "nbformat_minor": 5
}
